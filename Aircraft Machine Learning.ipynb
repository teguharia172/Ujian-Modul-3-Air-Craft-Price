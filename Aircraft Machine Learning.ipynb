{
 "cells": [
  {
   "cell_type": "code",
   "execution_count": 110,
   "metadata": {},
   "outputs": [],
   "source": [
    "import pandas as pd\n",
    "import numpy as np \n",
    "import matplotlib.pyplot as plt \n",
    "import seaborn as sns\n",
    "import warnings\n",
    "warnings.filterwarnings('ignore')\n",
    "pd.set_option('display.max_columns', None)\n",
    "import sidetable as stb \n",
    "from sklearn.model_selection import train_test_split, RandomizedSearchCV, GridSearchCV\n",
    "from sklearn.preprocessing import RobustScaler\n",
    "from sklearn.neighbors import KNeighborsRegressor\n",
    "from sklearn.linear_model import Ridge\n",
    "from sklearn.ensemble import RandomForestRegressor\n",
    "from sklearn.tree import DecisionTreeRegressor\n",
    "from sklearn.metrics import mean_absolute_error, mean_squared_error, r2_score"
   ]
  },
  {
   "cell_type": "code",
   "execution_count": 4,
   "metadata": {},
   "outputs": [
    {
     "data": {
      "text/html": [
       "<div>\n",
       "<style scoped>\n",
       "    .dataframe tbody tr th:only-of-type {\n",
       "        vertical-align: middle;\n",
       "    }\n",
       "\n",
       "    .dataframe tbody tr th {\n",
       "        vertical-align: top;\n",
       "    }\n",
       "\n",
       "    .dataframe thead th {\n",
       "        text-align: right;\n",
       "    }\n",
       "</style>\n",
       "<table border=\"1\" class=\"dataframe\">\n",
       "  <thead>\n",
       "    <tr style=\"text-align: right;\">\n",
       "      <th></th>\n",
       "      <th>condition</th>\n",
       "      <th>currency</th>\n",
       "      <th>category</th>\n",
       "      <th>year</th>\n",
       "      <th>make</th>\n",
       "      <th>model</th>\n",
       "      <th>location</th>\n",
       "      <th>s/n</th>\n",
       "      <th>reg</th>\n",
       "      <th>total_hours</th>\n",
       "      <th>national_origin</th>\n",
       "      <th>standard_price</th>\n",
       "      <th>hour</th>\n",
       "      <th>price</th>\n",
       "      <th>country</th>\n",
       "    </tr>\n",
       "  </thead>\n",
       "  <tbody>\n",
       "    <tr>\n",
       "      <th>0</th>\n",
       "      <td>Used</td>\n",
       "      <td>USD</td>\n",
       "      <td>Single Engine Piston</td>\n",
       "      <td>2011</td>\n",
       "      <td>CIRRUS</td>\n",
       "      <td>SR20-G3</td>\n",
       "      <td>Farmingdale (KFRG),\\n\\t                       ...</td>\n",
       "      <td>2081</td>\n",
       "      <td>N187PH</td>\n",
       "      <td>1740.0</td>\n",
       "      <td>United States</td>\n",
       "      <td>294900.0</td>\n",
       "      <td>upto 2000 hours</td>\n",
       "      <td>upto 500000 hours</td>\n",
       "      <td>USA</td>\n",
       "    </tr>\n",
       "    <tr>\n",
       "      <th>1</th>\n",
       "      <td>Used</td>\n",
       "      <td>USD</td>\n",
       "      <td>Single Engine Piston</td>\n",
       "      <td>2011</td>\n",
       "      <td>CUBCRAFTERS</td>\n",
       "      <td>CC11-160 CARBON CUB SS</td>\n",
       "      <td>Louisburg,\\n\\t                           NC\\n\\...</td>\n",
       "      <td>CC11-00168</td>\n",
       "      <td>N160TJ</td>\n",
       "      <td>175.0</td>\n",
       "      <td>United States</td>\n",
       "      <td>184900.0</td>\n",
       "      <td>upto 1000 hours</td>\n",
       "      <td>upto 250000</td>\n",
       "      <td>USA</td>\n",
       "    </tr>\n",
       "    <tr>\n",
       "      <th>2</th>\n",
       "      <td>Used</td>\n",
       "      <td>USD</td>\n",
       "      <td>Single Engine Piston</td>\n",
       "      <td>2015</td>\n",
       "      <td>CIRRUS</td>\n",
       "      <td>SR22-G5 TURBO</td>\n",
       "      <td>Knoxville,\\n\\t                           TN\\n\\...</td>\n",
       "      <td>1119</td>\n",
       "      <td>N619MT</td>\n",
       "      <td>738.0</td>\n",
       "      <td>United States</td>\n",
       "      <td>609000.0</td>\n",
       "      <td>upto 1000 hours</td>\n",
       "      <td>upto 1000000 hours</td>\n",
       "      <td>USA</td>\n",
       "    </tr>\n",
       "    <tr>\n",
       "      <th>3</th>\n",
       "      <td>Used</td>\n",
       "      <td>USD</td>\n",
       "      <td>Single Engine Piston</td>\n",
       "      <td>2016</td>\n",
       "      <td>BEECHCRAFT</td>\n",
       "      <td>G36 BONANZA</td>\n",
       "      <td>Greensboro,\\n\\t                           NC\\n...</td>\n",
       "      <td>E-4100</td>\n",
       "      <td>N71RW</td>\n",
       "      <td>175.0</td>\n",
       "      <td>United States</td>\n",
       "      <td>699000.0</td>\n",
       "      <td>upto 1000 hours</td>\n",
       "      <td>upto 1000000 hours</td>\n",
       "      <td>USA</td>\n",
       "    </tr>\n",
       "    <tr>\n",
       "      <th>4</th>\n",
       "      <td>Used</td>\n",
       "      <td>USD</td>\n",
       "      <td>Single Engine Piston</td>\n",
       "      <td>2016</td>\n",
       "      <td>BEECHCRAFT</td>\n",
       "      <td>G36 BONANZA</td>\n",
       "      <td>Indianapolis,\\n\\t                           IN...</td>\n",
       "      <td>Not Listed</td>\n",
       "      <td>N686AG</td>\n",
       "      <td>250.0</td>\n",
       "      <td>United States</td>\n",
       "      <td>749000.0</td>\n",
       "      <td>upto 1000 hours</td>\n",
       "      <td>upto 1000000 hours</td>\n",
       "      <td>USA</td>\n",
       "    </tr>\n",
       "  </tbody>\n",
       "</table>\n",
       "</div>"
      ],
      "text/plain": [
       "  condition currency              category  year         make  \\\n",
       "0      Used      USD  Single Engine Piston  2011       CIRRUS   \n",
       "1      Used      USD  Single Engine Piston  2011  CUBCRAFTERS   \n",
       "2      Used      USD  Single Engine Piston  2015       CIRRUS   \n",
       "3      Used      USD  Single Engine Piston  2016   BEECHCRAFT   \n",
       "4      Used      USD  Single Engine Piston  2016   BEECHCRAFT   \n",
       "\n",
       "                    model                                           location  \\\n",
       "0                 SR20-G3  Farmingdale (KFRG),\\n\\t                       ...   \n",
       "1  CC11-160 CARBON CUB SS  Louisburg,\\n\\t                           NC\\n\\...   \n",
       "2           SR22-G5 TURBO  Knoxville,\\n\\t                           TN\\n\\...   \n",
       "3             G36 BONANZA  Greensboro,\\n\\t                           NC\\n...   \n",
       "4             G36 BONANZA  Indianapolis,\\n\\t                           IN...   \n",
       "\n",
       "          s/n     reg  total_hours national_origin  standard_price  \\\n",
       "0        2081  N187PH       1740.0   United States        294900.0   \n",
       "1  CC11-00168  N160TJ        175.0   United States        184900.0   \n",
       "2        1119  N619MT        738.0   United States        609000.0   \n",
       "3      E-4100   N71RW        175.0   United States        699000.0   \n",
       "4  Not Listed  N686AG        250.0   United States        749000.0   \n",
       "\n",
       "              hour               price country  \n",
       "0  upto 2000 hours   upto 500000 hours     USA  \n",
       "1  upto 1000 hours         upto 250000     USA  \n",
       "2  upto 1000 hours  upto 1000000 hours     USA  \n",
       "3  upto 1000 hours  upto 1000000 hours     USA  \n",
       "4  upto 1000 hours  upto 1000000 hours     USA  "
      ]
     },
     "execution_count": 4,
     "metadata": {},
     "output_type": "execute_result"
    }
   ],
   "source": [
    "df = pd.read_csv('airplane_clean.csv')\n",
    "df.head()"
   ]
  },
  {
   "cell_type": "code",
   "execution_count": 6,
   "metadata": {},
   "outputs": [
    {
     "data": {
      "text/plain": [
       "condition          0\n",
       "currency           0\n",
       "category           0\n",
       "year               0\n",
       "make               0\n",
       "model              0\n",
       "location           0\n",
       "s/n                0\n",
       "reg                0\n",
       "total_hours        0\n",
       "national_origin    0\n",
       "standard_price     0\n",
       "hour               0\n",
       "price              0\n",
       "country            0\n",
       "dtype: int64"
      ]
     },
     "execution_count": 6,
     "metadata": {},
     "output_type": "execute_result"
    }
   ],
   "source": [
    "df.isna().sum()\n",
    "\n",
    "# checking that there's null value in the column"
   ]
  },
  {
   "cell_type": "code",
   "execution_count": 8,
   "metadata": {},
   "outputs": [
    {
     "name": "stdout",
     "output_type": "stream",
     "text": [
      "<class 'pandas.core.frame.DataFrame'>\n",
      "RangeIndex: 2307 entries, 0 to 2306\n",
      "Data columns (total 15 columns):\n",
      " #   Column           Non-Null Count  Dtype  \n",
      "---  ------           --------------  -----  \n",
      " 0   condition        2307 non-null   object \n",
      " 1   currency         2307 non-null   object \n",
      " 2   category         2307 non-null   object \n",
      " 3   year             2307 non-null   int64  \n",
      " 4   make             2307 non-null   object \n",
      " 5   model            2307 non-null   object \n",
      " 6   location         2307 non-null   object \n",
      " 7   s/n              2307 non-null   object \n",
      " 8   reg              2307 non-null   object \n",
      " 9   total_hours      2307 non-null   float64\n",
      " 10  national_origin  2307 non-null   object \n",
      " 11  standard_price   2307 non-null   float64\n",
      " 12  hour             2307 non-null   object \n",
      " 13  price            2307 non-null   object \n",
      " 14  country          2307 non-null   object \n",
      "dtypes: float64(2), int64(1), object(12)\n",
      "memory usage: 270.5+ KB\n"
     ]
    }
   ],
   "source": [
    "df.info()\n",
    "\n",
    "# there are some columns that needs to be encoded here like the condition \n",
    "# and country, and category as well "
   ]
  },
  {
   "cell_type": "markdown",
   "metadata": {},
   "source": [
    "### Encoding The Country Column\n"
   ]
  },
  {
   "cell_type": "code",
   "execution_count": 10,
   "metadata": {},
   "outputs": [
    {
     "data": {
      "text/plain": [
       "array(['USA', 'Other'], dtype=object)"
      ]
     },
     "execution_count": 10,
     "metadata": {},
     "output_type": "execute_result"
    }
   ],
   "source": [
    "df['country'].unique()\n",
    "\n",
    "# since there's only 2 value we will use 1 and 0 \n",
    "# 1 is for USA while 0 is for other"
   ]
  },
  {
   "cell_type": "code",
   "execution_count": 11,
   "metadata": {},
   "outputs": [
    {
     "data": {
      "text/html": [
       "<div>\n",
       "<style scoped>\n",
       "    .dataframe tbody tr th:only-of-type {\n",
       "        vertical-align: middle;\n",
       "    }\n",
       "\n",
       "    .dataframe tbody tr th {\n",
       "        vertical-align: top;\n",
       "    }\n",
       "\n",
       "    .dataframe thead th {\n",
       "        text-align: right;\n",
       "    }\n",
       "</style>\n",
       "<table border=\"1\" class=\"dataframe\">\n",
       "  <thead>\n",
       "    <tr style=\"text-align: right;\">\n",
       "      <th></th>\n",
       "      <th>condition</th>\n",
       "      <th>currency</th>\n",
       "      <th>category</th>\n",
       "      <th>year</th>\n",
       "      <th>make</th>\n",
       "      <th>model</th>\n",
       "      <th>location</th>\n",
       "      <th>s/n</th>\n",
       "      <th>reg</th>\n",
       "      <th>total_hours</th>\n",
       "      <th>national_origin</th>\n",
       "      <th>standard_price</th>\n",
       "      <th>hour</th>\n",
       "      <th>price</th>\n",
       "      <th>country</th>\n",
       "    </tr>\n",
       "  </thead>\n",
       "  <tbody>\n",
       "    <tr>\n",
       "      <th>0</th>\n",
       "      <td>Used</td>\n",
       "      <td>USD</td>\n",
       "      <td>Single Engine Piston</td>\n",
       "      <td>2011</td>\n",
       "      <td>CIRRUS</td>\n",
       "      <td>SR20-G3</td>\n",
       "      <td>Farmingdale (KFRG),\\n\\t                       ...</td>\n",
       "      <td>2081</td>\n",
       "      <td>N187PH</td>\n",
       "      <td>1740.0</td>\n",
       "      <td>United States</td>\n",
       "      <td>294900.0</td>\n",
       "      <td>upto 2000 hours</td>\n",
       "      <td>upto 500000 hours</td>\n",
       "      <td>1</td>\n",
       "    </tr>\n",
       "    <tr>\n",
       "      <th>1</th>\n",
       "      <td>Used</td>\n",
       "      <td>USD</td>\n",
       "      <td>Single Engine Piston</td>\n",
       "      <td>2011</td>\n",
       "      <td>CUBCRAFTERS</td>\n",
       "      <td>CC11-160 CARBON CUB SS</td>\n",
       "      <td>Louisburg,\\n\\t                           NC\\n\\...</td>\n",
       "      <td>CC11-00168</td>\n",
       "      <td>N160TJ</td>\n",
       "      <td>175.0</td>\n",
       "      <td>United States</td>\n",
       "      <td>184900.0</td>\n",
       "      <td>upto 1000 hours</td>\n",
       "      <td>upto 250000</td>\n",
       "      <td>1</td>\n",
       "    </tr>\n",
       "    <tr>\n",
       "      <th>2</th>\n",
       "      <td>Used</td>\n",
       "      <td>USD</td>\n",
       "      <td>Single Engine Piston</td>\n",
       "      <td>2015</td>\n",
       "      <td>CIRRUS</td>\n",
       "      <td>SR22-G5 TURBO</td>\n",
       "      <td>Knoxville,\\n\\t                           TN\\n\\...</td>\n",
       "      <td>1119</td>\n",
       "      <td>N619MT</td>\n",
       "      <td>738.0</td>\n",
       "      <td>United States</td>\n",
       "      <td>609000.0</td>\n",
       "      <td>upto 1000 hours</td>\n",
       "      <td>upto 1000000 hours</td>\n",
       "      <td>1</td>\n",
       "    </tr>\n",
       "    <tr>\n",
       "      <th>3</th>\n",
       "      <td>Used</td>\n",
       "      <td>USD</td>\n",
       "      <td>Single Engine Piston</td>\n",
       "      <td>2016</td>\n",
       "      <td>BEECHCRAFT</td>\n",
       "      <td>G36 BONANZA</td>\n",
       "      <td>Greensboro,\\n\\t                           NC\\n...</td>\n",
       "      <td>E-4100</td>\n",
       "      <td>N71RW</td>\n",
       "      <td>175.0</td>\n",
       "      <td>United States</td>\n",
       "      <td>699000.0</td>\n",
       "      <td>upto 1000 hours</td>\n",
       "      <td>upto 1000000 hours</td>\n",
       "      <td>1</td>\n",
       "    </tr>\n",
       "    <tr>\n",
       "      <th>4</th>\n",
       "      <td>Used</td>\n",
       "      <td>USD</td>\n",
       "      <td>Single Engine Piston</td>\n",
       "      <td>2016</td>\n",
       "      <td>BEECHCRAFT</td>\n",
       "      <td>G36 BONANZA</td>\n",
       "      <td>Indianapolis,\\n\\t                           IN...</td>\n",
       "      <td>Not Listed</td>\n",
       "      <td>N686AG</td>\n",
       "      <td>250.0</td>\n",
       "      <td>United States</td>\n",
       "      <td>749000.0</td>\n",
       "      <td>upto 1000 hours</td>\n",
       "      <td>upto 1000000 hours</td>\n",
       "      <td>1</td>\n",
       "    </tr>\n",
       "  </tbody>\n",
       "</table>\n",
       "</div>"
      ],
      "text/plain": [
       "  condition currency              category  year         make  \\\n",
       "0      Used      USD  Single Engine Piston  2011       CIRRUS   \n",
       "1      Used      USD  Single Engine Piston  2011  CUBCRAFTERS   \n",
       "2      Used      USD  Single Engine Piston  2015       CIRRUS   \n",
       "3      Used      USD  Single Engine Piston  2016   BEECHCRAFT   \n",
       "4      Used      USD  Single Engine Piston  2016   BEECHCRAFT   \n",
       "\n",
       "                    model                                           location  \\\n",
       "0                 SR20-G3  Farmingdale (KFRG),\\n\\t                       ...   \n",
       "1  CC11-160 CARBON CUB SS  Louisburg,\\n\\t                           NC\\n\\...   \n",
       "2           SR22-G5 TURBO  Knoxville,\\n\\t                           TN\\n\\...   \n",
       "3             G36 BONANZA  Greensboro,\\n\\t                           NC\\n...   \n",
       "4             G36 BONANZA  Indianapolis,\\n\\t                           IN...   \n",
       "\n",
       "          s/n     reg  total_hours national_origin  standard_price  \\\n",
       "0        2081  N187PH       1740.0   United States        294900.0   \n",
       "1  CC11-00168  N160TJ        175.0   United States        184900.0   \n",
       "2        1119  N619MT        738.0   United States        609000.0   \n",
       "3      E-4100   N71RW        175.0   United States        699000.0   \n",
       "4  Not Listed  N686AG        250.0   United States        749000.0   \n",
       "\n",
       "              hour               price  country  \n",
       "0  upto 2000 hours   upto 500000 hours        1  \n",
       "1  upto 1000 hours         upto 250000        1  \n",
       "2  upto 1000 hours  upto 1000000 hours        1  \n",
       "3  upto 1000 hours  upto 1000000 hours        1  \n",
       "4  upto 1000 hours  upto 1000000 hours        1  "
      ]
     },
     "execution_count": 11,
     "metadata": {},
     "output_type": "execute_result"
    }
   ],
   "source": [
    "df['country'] = df['country'].map({'USA':1, 'Other':0})\n",
    "df.head()"
   ]
  },
  {
   "cell_type": "code",
   "execution_count": 14,
   "metadata": {},
   "outputs": [
    {
     "data": {
      "text/html": [
       "<div>\n",
       "<style scoped>\n",
       "    .dataframe tbody tr th:only-of-type {\n",
       "        vertical-align: middle;\n",
       "    }\n",
       "\n",
       "    .dataframe tbody tr th {\n",
       "        vertical-align: top;\n",
       "    }\n",
       "\n",
       "    .dataframe thead th {\n",
       "        text-align: right;\n",
       "    }\n",
       "</style>\n",
       "<table border=\"1\" class=\"dataframe\">\n",
       "  <thead>\n",
       "    <tr style=\"text-align: right;\">\n",
       "      <th></th>\n",
       "      <th>currency</th>\n",
       "      <th>category</th>\n",
       "      <th>year</th>\n",
       "      <th>make</th>\n",
       "      <th>model</th>\n",
       "      <th>location</th>\n",
       "      <th>s/n</th>\n",
       "      <th>reg</th>\n",
       "      <th>total_hours</th>\n",
       "      <th>national_origin</th>\n",
       "      <th>standard_price</th>\n",
       "      <th>hour</th>\n",
       "      <th>price</th>\n",
       "      <th>country</th>\n",
       "      <th>condition_New</th>\n",
       "      <th>condition_Project</th>\n",
       "      <th>condition_Used</th>\n",
       "    </tr>\n",
       "  </thead>\n",
       "  <tbody>\n",
       "    <tr>\n",
       "      <th>0</th>\n",
       "      <td>USD</td>\n",
       "      <td>Single Engine Piston</td>\n",
       "      <td>2011</td>\n",
       "      <td>CIRRUS</td>\n",
       "      <td>SR20-G3</td>\n",
       "      <td>Farmingdale (KFRG),\\n\\t                       ...</td>\n",
       "      <td>2081</td>\n",
       "      <td>N187PH</td>\n",
       "      <td>1740.0</td>\n",
       "      <td>United States</td>\n",
       "      <td>294900.0</td>\n",
       "      <td>upto 2000 hours</td>\n",
       "      <td>upto 500000 hours</td>\n",
       "      <td>1</td>\n",
       "      <td>0</td>\n",
       "      <td>0</td>\n",
       "      <td>1</td>\n",
       "    </tr>\n",
       "    <tr>\n",
       "      <th>1</th>\n",
       "      <td>USD</td>\n",
       "      <td>Single Engine Piston</td>\n",
       "      <td>2011</td>\n",
       "      <td>CUBCRAFTERS</td>\n",
       "      <td>CC11-160 CARBON CUB SS</td>\n",
       "      <td>Louisburg,\\n\\t                           NC\\n\\...</td>\n",
       "      <td>CC11-00168</td>\n",
       "      <td>N160TJ</td>\n",
       "      <td>175.0</td>\n",
       "      <td>United States</td>\n",
       "      <td>184900.0</td>\n",
       "      <td>upto 1000 hours</td>\n",
       "      <td>upto 250000</td>\n",
       "      <td>1</td>\n",
       "      <td>0</td>\n",
       "      <td>0</td>\n",
       "      <td>1</td>\n",
       "    </tr>\n",
       "    <tr>\n",
       "      <th>2</th>\n",
       "      <td>USD</td>\n",
       "      <td>Single Engine Piston</td>\n",
       "      <td>2015</td>\n",
       "      <td>CIRRUS</td>\n",
       "      <td>SR22-G5 TURBO</td>\n",
       "      <td>Knoxville,\\n\\t                           TN\\n\\...</td>\n",
       "      <td>1119</td>\n",
       "      <td>N619MT</td>\n",
       "      <td>738.0</td>\n",
       "      <td>United States</td>\n",
       "      <td>609000.0</td>\n",
       "      <td>upto 1000 hours</td>\n",
       "      <td>upto 1000000 hours</td>\n",
       "      <td>1</td>\n",
       "      <td>0</td>\n",
       "      <td>0</td>\n",
       "      <td>1</td>\n",
       "    </tr>\n",
       "    <tr>\n",
       "      <th>3</th>\n",
       "      <td>USD</td>\n",
       "      <td>Single Engine Piston</td>\n",
       "      <td>2016</td>\n",
       "      <td>BEECHCRAFT</td>\n",
       "      <td>G36 BONANZA</td>\n",
       "      <td>Greensboro,\\n\\t                           NC\\n...</td>\n",
       "      <td>E-4100</td>\n",
       "      <td>N71RW</td>\n",
       "      <td>175.0</td>\n",
       "      <td>United States</td>\n",
       "      <td>699000.0</td>\n",
       "      <td>upto 1000 hours</td>\n",
       "      <td>upto 1000000 hours</td>\n",
       "      <td>1</td>\n",
       "      <td>0</td>\n",
       "      <td>0</td>\n",
       "      <td>1</td>\n",
       "    </tr>\n",
       "    <tr>\n",
       "      <th>4</th>\n",
       "      <td>USD</td>\n",
       "      <td>Single Engine Piston</td>\n",
       "      <td>2016</td>\n",
       "      <td>BEECHCRAFT</td>\n",
       "      <td>G36 BONANZA</td>\n",
       "      <td>Indianapolis,\\n\\t                           IN...</td>\n",
       "      <td>Not Listed</td>\n",
       "      <td>N686AG</td>\n",
       "      <td>250.0</td>\n",
       "      <td>United States</td>\n",
       "      <td>749000.0</td>\n",
       "      <td>upto 1000 hours</td>\n",
       "      <td>upto 1000000 hours</td>\n",
       "      <td>1</td>\n",
       "      <td>0</td>\n",
       "      <td>0</td>\n",
       "      <td>1</td>\n",
       "    </tr>\n",
       "  </tbody>\n",
       "</table>\n",
       "</div>"
      ],
      "text/plain": [
       "  currency              category  year         make                   model  \\\n",
       "0      USD  Single Engine Piston  2011       CIRRUS                 SR20-G3   \n",
       "1      USD  Single Engine Piston  2011  CUBCRAFTERS  CC11-160 CARBON CUB SS   \n",
       "2      USD  Single Engine Piston  2015       CIRRUS           SR22-G5 TURBO   \n",
       "3      USD  Single Engine Piston  2016   BEECHCRAFT             G36 BONANZA   \n",
       "4      USD  Single Engine Piston  2016   BEECHCRAFT             G36 BONANZA   \n",
       "\n",
       "                                            location         s/n     reg  \\\n",
       "0  Farmingdale (KFRG),\\n\\t                       ...        2081  N187PH   \n",
       "1  Louisburg,\\n\\t                           NC\\n\\...  CC11-00168  N160TJ   \n",
       "2  Knoxville,\\n\\t                           TN\\n\\...        1119  N619MT   \n",
       "3  Greensboro,\\n\\t                           NC\\n...      E-4100   N71RW   \n",
       "4  Indianapolis,\\n\\t                           IN...  Not Listed  N686AG   \n",
       "\n",
       "   total_hours national_origin  standard_price             hour  \\\n",
       "0       1740.0   United States        294900.0  upto 2000 hours   \n",
       "1        175.0   United States        184900.0  upto 1000 hours   \n",
       "2        738.0   United States        609000.0  upto 1000 hours   \n",
       "3        175.0   United States        699000.0  upto 1000 hours   \n",
       "4        250.0   United States        749000.0  upto 1000 hours   \n",
       "\n",
       "                price  country  condition_New  condition_Project  \\\n",
       "0   upto 500000 hours        1              0                  0   \n",
       "1         upto 250000        1              0                  0   \n",
       "2  upto 1000000 hours        1              0                  0   \n",
       "3  upto 1000000 hours        1              0                  0   \n",
       "4  upto 1000000 hours        1              0                  0   \n",
       "\n",
       "   condition_Used  \n",
       "0               1  \n",
       "1               1  \n",
       "2               1  \n",
       "3               1  \n",
       "4               1  "
      ]
     },
     "execution_count": 14,
     "metadata": {},
     "output_type": "execute_result"
    }
   ],
   "source": [
    "## condition column using get dummies\n",
    "\n",
    "df = pd.get_dummies(data = df, columns = ['condition'])\n",
    "df.head()"
   ]
  },
  {
   "cell_type": "code",
   "execution_count": 17,
   "metadata": {},
   "outputs": [
    {
     "data": {
      "text/html": [
       "<div>\n",
       "<style scoped>\n",
       "    .dataframe tbody tr th:only-of-type {\n",
       "        vertical-align: middle;\n",
       "    }\n",
       "\n",
       "    .dataframe tbody tr th {\n",
       "        vertical-align: top;\n",
       "    }\n",
       "\n",
       "    .dataframe thead th {\n",
       "        text-align: right;\n",
       "    }\n",
       "</style>\n",
       "<table border=\"1\" class=\"dataframe\">\n",
       "  <thead>\n",
       "    <tr style=\"text-align: right;\">\n",
       "      <th></th>\n",
       "      <th>currency</th>\n",
       "      <th>year</th>\n",
       "      <th>make</th>\n",
       "      <th>model</th>\n",
       "      <th>location</th>\n",
       "      <th>s/n</th>\n",
       "      <th>reg</th>\n",
       "      <th>total_hours</th>\n",
       "      <th>national_origin</th>\n",
       "      <th>standard_price</th>\n",
       "      <th>hour</th>\n",
       "      <th>price</th>\n",
       "      <th>country</th>\n",
       "      <th>condition_New</th>\n",
       "      <th>condition_Project</th>\n",
       "      <th>condition_Used</th>\n",
       "      <th>category_Gliders | Sailplanes</th>\n",
       "      <th>category_Gyrocopter</th>\n",
       "      <th>category_Military/Classic/Vintage</th>\n",
       "      <th>category_Multi Engine Piston</th>\n",
       "      <th>category_Piston Helicopters</th>\n",
       "      <th>category_Private Jets</th>\n",
       "      <th>category_Single Engine Piston</th>\n",
       "      <th>category_Turbine Helicopters</th>\n",
       "      <th>category_Turboprops</th>\n",
       "      <th>category_Twin Piston</th>\n",
       "      <th>category_Ultralight</th>\n",
       "    </tr>\n",
       "  </thead>\n",
       "  <tbody>\n",
       "    <tr>\n",
       "      <th>0</th>\n",
       "      <td>USD</td>\n",
       "      <td>2011</td>\n",
       "      <td>CIRRUS</td>\n",
       "      <td>SR20-G3</td>\n",
       "      <td>Farmingdale (KFRG),\\n\\t                       ...</td>\n",
       "      <td>2081</td>\n",
       "      <td>N187PH</td>\n",
       "      <td>1740.0</td>\n",
       "      <td>United States</td>\n",
       "      <td>294900.0</td>\n",
       "      <td>upto 2000 hours</td>\n",
       "      <td>upto 500000 hours</td>\n",
       "      <td>1</td>\n",
       "      <td>0</td>\n",
       "      <td>0</td>\n",
       "      <td>1</td>\n",
       "      <td>0</td>\n",
       "      <td>0</td>\n",
       "      <td>0</td>\n",
       "      <td>0</td>\n",
       "      <td>0</td>\n",
       "      <td>0</td>\n",
       "      <td>1</td>\n",
       "      <td>0</td>\n",
       "      <td>0</td>\n",
       "      <td>0</td>\n",
       "      <td>0</td>\n",
       "    </tr>\n",
       "    <tr>\n",
       "      <th>1</th>\n",
       "      <td>USD</td>\n",
       "      <td>2011</td>\n",
       "      <td>CUBCRAFTERS</td>\n",
       "      <td>CC11-160 CARBON CUB SS</td>\n",
       "      <td>Louisburg,\\n\\t                           NC\\n\\...</td>\n",
       "      <td>CC11-00168</td>\n",
       "      <td>N160TJ</td>\n",
       "      <td>175.0</td>\n",
       "      <td>United States</td>\n",
       "      <td>184900.0</td>\n",
       "      <td>upto 1000 hours</td>\n",
       "      <td>upto 250000</td>\n",
       "      <td>1</td>\n",
       "      <td>0</td>\n",
       "      <td>0</td>\n",
       "      <td>1</td>\n",
       "      <td>0</td>\n",
       "      <td>0</td>\n",
       "      <td>0</td>\n",
       "      <td>0</td>\n",
       "      <td>0</td>\n",
       "      <td>0</td>\n",
       "      <td>1</td>\n",
       "      <td>0</td>\n",
       "      <td>0</td>\n",
       "      <td>0</td>\n",
       "      <td>0</td>\n",
       "    </tr>\n",
       "    <tr>\n",
       "      <th>2</th>\n",
       "      <td>USD</td>\n",
       "      <td>2015</td>\n",
       "      <td>CIRRUS</td>\n",
       "      <td>SR22-G5 TURBO</td>\n",
       "      <td>Knoxville,\\n\\t                           TN\\n\\...</td>\n",
       "      <td>1119</td>\n",
       "      <td>N619MT</td>\n",
       "      <td>738.0</td>\n",
       "      <td>United States</td>\n",
       "      <td>609000.0</td>\n",
       "      <td>upto 1000 hours</td>\n",
       "      <td>upto 1000000 hours</td>\n",
       "      <td>1</td>\n",
       "      <td>0</td>\n",
       "      <td>0</td>\n",
       "      <td>1</td>\n",
       "      <td>0</td>\n",
       "      <td>0</td>\n",
       "      <td>0</td>\n",
       "      <td>0</td>\n",
       "      <td>0</td>\n",
       "      <td>0</td>\n",
       "      <td>1</td>\n",
       "      <td>0</td>\n",
       "      <td>0</td>\n",
       "      <td>0</td>\n",
       "      <td>0</td>\n",
       "    </tr>\n",
       "    <tr>\n",
       "      <th>3</th>\n",
       "      <td>USD</td>\n",
       "      <td>2016</td>\n",
       "      <td>BEECHCRAFT</td>\n",
       "      <td>G36 BONANZA</td>\n",
       "      <td>Greensboro,\\n\\t                           NC\\n...</td>\n",
       "      <td>E-4100</td>\n",
       "      <td>N71RW</td>\n",
       "      <td>175.0</td>\n",
       "      <td>United States</td>\n",
       "      <td>699000.0</td>\n",
       "      <td>upto 1000 hours</td>\n",
       "      <td>upto 1000000 hours</td>\n",
       "      <td>1</td>\n",
       "      <td>0</td>\n",
       "      <td>0</td>\n",
       "      <td>1</td>\n",
       "      <td>0</td>\n",
       "      <td>0</td>\n",
       "      <td>0</td>\n",
       "      <td>0</td>\n",
       "      <td>0</td>\n",
       "      <td>0</td>\n",
       "      <td>1</td>\n",
       "      <td>0</td>\n",
       "      <td>0</td>\n",
       "      <td>0</td>\n",
       "      <td>0</td>\n",
       "    </tr>\n",
       "    <tr>\n",
       "      <th>4</th>\n",
       "      <td>USD</td>\n",
       "      <td>2016</td>\n",
       "      <td>BEECHCRAFT</td>\n",
       "      <td>G36 BONANZA</td>\n",
       "      <td>Indianapolis,\\n\\t                           IN...</td>\n",
       "      <td>Not Listed</td>\n",
       "      <td>N686AG</td>\n",
       "      <td>250.0</td>\n",
       "      <td>United States</td>\n",
       "      <td>749000.0</td>\n",
       "      <td>upto 1000 hours</td>\n",
       "      <td>upto 1000000 hours</td>\n",
       "      <td>1</td>\n",
       "      <td>0</td>\n",
       "      <td>0</td>\n",
       "      <td>1</td>\n",
       "      <td>0</td>\n",
       "      <td>0</td>\n",
       "      <td>0</td>\n",
       "      <td>0</td>\n",
       "      <td>0</td>\n",
       "      <td>0</td>\n",
       "      <td>1</td>\n",
       "      <td>0</td>\n",
       "      <td>0</td>\n",
       "      <td>0</td>\n",
       "      <td>0</td>\n",
       "    </tr>\n",
       "  </tbody>\n",
       "</table>\n",
       "</div>"
      ],
      "text/plain": [
       "  currency  year         make                   model  \\\n",
       "0      USD  2011       CIRRUS                 SR20-G3   \n",
       "1      USD  2011  CUBCRAFTERS  CC11-160 CARBON CUB SS   \n",
       "2      USD  2015       CIRRUS           SR22-G5 TURBO   \n",
       "3      USD  2016   BEECHCRAFT             G36 BONANZA   \n",
       "4      USD  2016   BEECHCRAFT             G36 BONANZA   \n",
       "\n",
       "                                            location         s/n     reg  \\\n",
       "0  Farmingdale (KFRG),\\n\\t                       ...        2081  N187PH   \n",
       "1  Louisburg,\\n\\t                           NC\\n\\...  CC11-00168  N160TJ   \n",
       "2  Knoxville,\\n\\t                           TN\\n\\...        1119  N619MT   \n",
       "3  Greensboro,\\n\\t                           NC\\n...      E-4100   N71RW   \n",
       "4  Indianapolis,\\n\\t                           IN...  Not Listed  N686AG   \n",
       "\n",
       "   total_hours national_origin  standard_price             hour  \\\n",
       "0       1740.0   United States        294900.0  upto 2000 hours   \n",
       "1        175.0   United States        184900.0  upto 1000 hours   \n",
       "2        738.0   United States        609000.0  upto 1000 hours   \n",
       "3        175.0   United States        699000.0  upto 1000 hours   \n",
       "4        250.0   United States        749000.0  upto 1000 hours   \n",
       "\n",
       "                price  country  condition_New  condition_Project  \\\n",
       "0   upto 500000 hours        1              0                  0   \n",
       "1         upto 250000        1              0                  0   \n",
       "2  upto 1000000 hours        1              0                  0   \n",
       "3  upto 1000000 hours        1              0                  0   \n",
       "4  upto 1000000 hours        1              0                  0   \n",
       "\n",
       "   condition_Used  category_Gliders | Sailplanes  category_Gyrocopter  \\\n",
       "0               1                              0                    0   \n",
       "1               1                              0                    0   \n",
       "2               1                              0                    0   \n",
       "3               1                              0                    0   \n",
       "4               1                              0                    0   \n",
       "\n",
       "   category_Military/Classic/Vintage  category_Multi Engine Piston  \\\n",
       "0                                  0                             0   \n",
       "1                                  0                             0   \n",
       "2                                  0                             0   \n",
       "3                                  0                             0   \n",
       "4                                  0                             0   \n",
       "\n",
       "   category_Piston Helicopters  category_Private Jets  \\\n",
       "0                            0                      0   \n",
       "1                            0                      0   \n",
       "2                            0                      0   \n",
       "3                            0                      0   \n",
       "4                            0                      0   \n",
       "\n",
       "   category_Single Engine Piston  category_Turbine Helicopters  \\\n",
       "0                              1                             0   \n",
       "1                              1                             0   \n",
       "2                              1                             0   \n",
       "3                              1                             0   \n",
       "4                              1                             0   \n",
       "\n",
       "   category_Turboprops  category_Twin Piston  category_Ultralight  \n",
       "0                    0                     0                    0  \n",
       "1                    0                     0                    0  \n",
       "2                    0                     0                    0  \n",
       "3                    0                     0                    0  \n",
       "4                    0                     0                    0  "
      ]
     },
     "execution_count": 17,
     "metadata": {},
     "output_type": "execute_result"
    }
   ],
   "source": [
    "df = pd.get_dummies(data = df, columns = ['category'])\n",
    "df.head()"
   ]
  },
  {
   "cell_type": "markdown",
   "metadata": {},
   "source": [
    "### Checking Correlation and Feature Selection"
   ]
  },
  {
   "cell_type": "code",
   "execution_count": 19,
   "metadata": {},
   "outputs": [
    {
     "data": {
      "text/plain": [
       "<matplotlib.axes._subplots.AxesSubplot at 0x1d612f2c670>"
      ]
     },
     "execution_count": 19,
     "metadata": {},
     "output_type": "execute_result"
    },
    {
     "data": {
      "image/png": "[encoded data removed]",
      "text/plain": [
       "<Figure size 1080x576 with 2 Axes>"
      ]
     },
     "metadata": {
      "needs_background": "light"
     },
     "output_type": "display_data"
    }
   ],
   "source": [
    "plt.figure(figsize = (15 , 8))\n",
    "sns.heatmap(df.corr(), annot = True)"
   ]
  },
  {
   "cell_type": "code",
   "execution_count": 23,
   "metadata": {},
   "outputs": [
    {
     "data": {
      "text/plain": [
       "category_Private Jets                0.537895\n",
       "year                                 0.305695\n",
       "category_Turbine Helicopters         0.124988\n",
       "category_Turboprops                  0.117526\n",
       "condition_Used                       0.030509\n",
       "category_Military/Classic/Vintage    0.006753\n",
       "total_hours                         -0.009322\n",
       "category_Gliders | Sailplanes       -0.009493\n",
       "category_Ultralight                 -0.010361\n",
       "category_Gyrocopter                 -0.016673\n",
       "condition_Project                   -0.017871\n",
       "condition_New                       -0.025372\n",
       "category_Twin Piston                -0.031059\n",
       "category_Piston Helicopters         -0.061046\n",
       "category_Multi Engine Piston        -0.115374\n",
       "country                             -0.310827\n",
       "category_Single Engine Piston       -0.358655\n",
       "Name: standard_price, dtype: float64"
      ]
     },
     "execution_count": 23,
     "metadata": {},
     "output_type": "execute_result"
    }
   ],
   "source": [
    "correlation = df.corr()\n",
    "correlation['standard_price'].sort_values(ascending = False)[1:]\n",
    "\n",
    "# we will use all the feature that has correlation value that's above 0.1 and below 0.1"
   ]
  },
  {
   "cell_type": "code",
   "execution_count": 25,
   "metadata": {},
   "outputs": [
    {
     "data": {
      "text/plain": [
       "<matplotlib.axes._subplots.AxesSubplot at 0x1d613d2a340>"
      ]
     },
     "execution_count": 25,
     "metadata": {},
     "output_type": "execute_result"
    },
    {
     "data": {
      "image/png": "[encoded data removed]",
      "text/plain": [
       "<Figure size 432x288 with 1 Axes>"
      ]
     },
     "metadata": {
      "needs_background": "light"
     },
     "output_type": "display_data"
    }
   ],
   "source": [
    "# since we know that our target is right skewed we will use log to normalize it\n",
    "\n",
    "sns.distplot(np.log(df['standard_price']))"
   ]
  },
  {
   "cell_type": "markdown",
   "metadata": {},
   "source": [
    "### Feature Selection and Model Building  "
   ]
  },
  {
   "cell_type": "code",
   "execution_count": 63,
   "metadata": {},
   "outputs": [
    {
     "data": {
      "text/plain": [
       "category_Private Jets                0.537895\n",
       "year                                 0.305695\n",
       "category_Turbine Helicopters         0.124988\n",
       "category_Turboprops                  0.117526\n",
       "condition_Used                       0.030509\n",
       "category_Military/Classic/Vintage    0.006753\n",
       "total_hours                         -0.009322\n",
       "category_Gliders | Sailplanes       -0.009493\n",
       "category_Ultralight                 -0.010361\n",
       "category_Gyrocopter                 -0.016673\n",
       "condition_Project                   -0.017871\n",
       "condition_New                       -0.025372\n",
       "category_Twin Piston                -0.031059\n",
       "category_Piston Helicopters         -0.061046\n",
       "category_Multi Engine Piston        -0.115374\n",
       "country                             -0.310827\n",
       "category_Single Engine Piston       -0.358655\n",
       "Name: standard_price, dtype: float64"
      ]
     },
     "execution_count": 63,
     "metadata": {},
     "output_type": "execute_result"
    }
   ],
   "source": [
    "correlation['standard_price'].sort_values(ascending = False)[1:]"
   ]
  },
  {
   "cell_type": "code",
   "execution_count": 64,
   "metadata": {},
   "outputs": [],
   "source": [
    "X = df[['category_Private Jets', 'year', 'category_Turbine Helicopters', 'category_Turboprops', 'condition_Used', 'category_Military/Classic/Vintage', 'category_Ultralight', 'category_Gyrocopter', 'condition_Project', 'condition_New', 'category_Twin Piston', 'category_Piston Helicopters', 'category_Multi Engine Piston', 'country', 'category_Single Engine Piston' ]]\n",
    "y = np.log(df['standard_price'])\n",
    "\n",
    "X_train, X_test, y_train, y_test = train_test_split(X,y, test_size = 0.2, random_state = 42)\n"
   ]
  },
  {
   "cell_type": "markdown",
   "metadata": {},
   "source": [
    "### Ridge Regression"
   ]
  },
  {
   "cell_type": "code",
   "execution_count": 65,
   "metadata": {},
   "outputs": [],
   "source": [
    "ridge = Ridge(alpha = 2)"
   ]
  },
  {
   "cell_type": "code",
   "execution_count": 66,
   "metadata": {},
   "outputs": [
    {
     "data": {
      "text/plain": [
       "Ridge(alpha=2)"
      ]
     },
     "execution_count": 66,
     "metadata": {},
     "output_type": "execute_result"
    }
   ],
   "source": [
    "ridge.fit(X_train, y_train)"
   ]
  },
  {
   "cell_type": "code",
   "execution_count": 69,
   "metadata": {},
   "outputs": [
    {
     "name": "stdout",
     "output_type": "stream",
     "text": [
      "0.6772819893860837\n",
      "0.6092085723136217\n"
     ]
    }
   ],
   "source": [
    "ridge_predict = ridge.predict(X_test) \n",
    "\n",
    "print(ridge.score(X_train, y_train))\n",
    "print(ridge.score(X_test, y_test))\n",
    "\n",
    "# we can definitely see that there is over fitting with this model we will let it be and correct it at tuning"
   ]
  },
  {
   "cell_type": "code",
   "execution_count": 72,
   "metadata": {},
   "outputs": [],
   "source": [
    "r2_ridge  = r2_score(y_test, ridge_predict)\n",
    "MAE_ridge = mean_absolute_error(y_test, ridge_predict)\n",
    "MSE_ridge = mean_squared_error(y_test, ridge_predict)\n",
    "RMSE_ridge = np.sqrt(MSE_ridge)"
   ]
  },
  {
   "cell_type": "code",
   "execution_count": 73,
   "metadata": {},
   "outputs": [
    {
     "name": "stdout",
     "output_type": "stream",
     "text": [
      "Hasil Evaluation Matrix Ridge Regression : \n",
      "\n",
      "MAE: 0.5869920650740801\n",
      "MSE:0.6615304612620603\n",
      "RMSE : 0.8133452288309437\n",
      "R2 : 0.6092085723136217\n"
     ]
    }
   ],
   "source": [
    "print('Hasil Evaluation Matrix Ridge Regression : ')\n",
    "print(\"\")\n",
    "print(f'MAE: {MAE_ridge}')\n",
    "print(f'MSE:{MSE_ridge}')\n",
    "print(f\"RMSE : {RMSE_ridge}\")\n",
    "print(f\"R2 : {r2_ridge}\")"
   ]
  },
  {
   "cell_type": "markdown",
   "metadata": {},
   "source": [
    "### KNeighbor Regressor\n"
   ]
  },
  {
   "cell_type": "code",
   "execution_count": 96,
   "metadata": {},
   "outputs": [],
   "source": [
    "knn = KNeighborsRegressor(n_neighbors= 6)\n",
    "knn.fit(X_train, y_train)\n",
    "knn_predict = knn.predict(X_test)"
   ]
  },
  {
   "cell_type": "code",
   "execution_count": 97,
   "metadata": {},
   "outputs": [
    {
     "name": "stdout",
     "output_type": "stream",
     "text": [
      "0.7719020721871943\n",
      "0.6356179399478006\n"
     ]
    }
   ],
   "source": [
    "print(knn.score(X_train, y_train))\n",
    "print(knn.score(X_test, y_test))\n",
    "\n",
    "# there is an overfitting with the model as well\n",
    "# we will re check the feature selection if we have enough time"
   ]
  },
  {
   "cell_type": "code",
   "execution_count": 98,
   "metadata": {},
   "outputs": [
    {
     "data": {
      "text/plain": [
       "[<matplotlib.lines.Line2D at 0x1d613ea2f40>]"
      ]
     },
     "execution_count": 98,
     "metadata": {},
     "output_type": "execute_result"
    },
    {
     "data": {
      "image/png": "[encoded data removed]",
      "text/plain": [
       "<Figure size 720x360 with 1 Axes>"
      ]
     },
     "metadata": {
      "needs_background": "light"
     },
     "output_type": "display_data"
    }
   ],
   "source": [
    "score = []\n",
    "\n",
    "for k in range(1, 100):\n",
    "    model = KNeighborsRegressor(n_neighbors = k)\n",
    "    model.fit(X_train, y_train)\n",
    "    score.append(model.score(X_test, y_test))\n",
    "    \n",
    "plt.figure(figsize = (10, 5))\n",
    "plt.plot(score)\n",
    "\n",
    "## we can see from this graph that the maximum score would be reached if n = smowhere around 8 - 10"
   ]
  },
  {
   "cell_type": "code",
   "execution_count": 99,
   "metadata": {},
   "outputs": [],
   "source": [
    "r2_knn  = r2_score(y_test, knn_predict)\n",
    "MAE_knn = mean_absolute_error(y_test, knn_predict)\n",
    "MSE_knn = mean_squared_error(y_test, knn_predict)\n",
    "RMSE_knn = np.sqrt(MSE_knn)"
   ]
  },
  {
   "cell_type": "code",
   "execution_count": 100,
   "metadata": {},
   "outputs": [
    {
     "name": "stdout",
     "output_type": "stream",
     "text": [
      "Hasil Evaluation Matrix KNearestNeighbors : \n",
      "\n",
      "MAE: 0.5392096761463627\n",
      "MSE:0.6168247693892632\n",
      "RMSE : 0.7853819258101521\n",
      "R2 : 0.6356179399478006\n"
     ]
    }
   ],
   "source": [
    "print('Hasil Evaluation Matrix KNearestNeighbors : ')\n",
    "print(\"\")\n",
    "print(f'MAE: {MAE_knn}')\n",
    "print(f'MSE:{MSE_knn}')\n",
    "print(f\"RMSE : {RMSE_knn}\")\n",
    "print(f\"R2 : {r2_knn}\")\n",
    "\n",
    "# KNN has a better evaluation matrix compared to ridge regression model however it still has an overfitting problem\n",
    "# this might be due to the feature selection"
   ]
  },
  {
   "cell_type": "markdown",
   "metadata": {},
   "source": [
    "### Decision Tree"
   ]
  },
  {
   "cell_type": "code",
   "execution_count": 101,
   "metadata": {},
   "outputs": [],
   "source": [
    "DT = DecisionTreeRegressor()\n",
    "DT.fit(X_train, y_train)\n",
    "DT_predict = DT.predict(X_test)"
   ]
  },
  {
   "cell_type": "code",
   "execution_count": 102,
   "metadata": {},
   "outputs": [
    {
     "name": "stdout",
     "output_type": "stream",
     "text": [
      "0.849506926517517\n",
      "0.5860825425461791\n"
     ]
    }
   ],
   "source": [
    "print(DT.score(X_train, y_train))\n",
    "print(DT.score(X_test, y_test))\n",
    "\n",
    "# decision tree has the worst overfitting compared to other models"
   ]
  },
  {
   "cell_type": "code",
   "execution_count": 105,
   "metadata": {},
   "outputs": [],
   "source": [
    "r2_DT =  r2_score(y_test, DT_predict)\n",
    "MAE_DT = mean_absolute_error(y_test, DT_predict)\n",
    "MSE_DT = mean_squared_error(y_test, DT_predict)\n",
    "RMSE_DT = np.sqrt(MSE_DT)"
   ]
  },
  {
   "cell_type": "code",
   "execution_count": 106,
   "metadata": {},
   "outputs": [
    {
     "name": "stdout",
     "output_type": "stream",
     "text": [
      "Hasil Evaluation Matrix Decision Tree : \n",
      "\n",
      "MAE: 0.5691151721213671\n",
      "MSE:0.7006781294434974\n",
      "RMSE : 0.8370651882879239\n",
      "R2 : 0.5860825425461791\n"
     ]
    }
   ],
   "source": [
    "print('Hasil Evaluation Matrix Decision Tree : ')\n",
    "print(\"\")\n",
    "print(f'MAE: {MAE_DT}')\n",
    "print(f'MSE:{MSE_DT}')\n",
    "print(f\"RMSE : {RMSE_DT}\")\n",
    "print(f\"R2 : {r2_DT}\")\n",
    "\n",
    "# out of the 3 model decision tree has the worst r2 score"
   ]
  },
  {
   "cell_type": "code",
   "execution_count": 107,
   "metadata": {},
   "outputs": [
    {
     "data": {
      "text/html": [
       "<div>\n",
       "<style scoped>\n",
       "    .dataframe tbody tr th:only-of-type {\n",
       "        vertical-align: middle;\n",
       "    }\n",
       "\n",
       "    .dataframe tbody tr th {\n",
       "        vertical-align: top;\n",
       "    }\n",
       "\n",
       "    .dataframe thead th {\n",
       "        text-align: right;\n",
       "    }\n",
       "</style>\n",
       "<table border=\"1\" class=\"dataframe\">\n",
       "  <thead>\n",
       "    <tr style=\"text-align: right;\">\n",
       "      <th></th>\n",
       "      <th>Ridge</th>\n",
       "      <th>KNN</th>\n",
       "      <th>Decision Tree</th>\n",
       "    </tr>\n",
       "  </thead>\n",
       "  <tbody>\n",
       "    <tr>\n",
       "      <th>R2</th>\n",
       "      <td>0.609209</td>\n",
       "      <td>0.635618</td>\n",
       "      <td>0.586083</td>\n",
       "    </tr>\n",
       "    <tr>\n",
       "      <th>MAE</th>\n",
       "      <td>0.586992</td>\n",
       "      <td>0.539210</td>\n",
       "      <td>0.569115</td>\n",
       "    </tr>\n",
       "    <tr>\n",
       "      <th>MSE</th>\n",
       "      <td>0.661530</td>\n",
       "      <td>0.616825</td>\n",
       "      <td>0.700678</td>\n",
       "    </tr>\n",
       "    <tr>\n",
       "      <th>RMSE</th>\n",
       "      <td>0.813345</td>\n",
       "      <td>0.785382</td>\n",
       "      <td>0.837065</td>\n",
       "    </tr>\n",
       "  </tbody>\n",
       "</table>\n",
       "</div>"
      ],
      "text/plain": [
       "         Ridge       KNN  Decision Tree\n",
       "R2    0.609209  0.635618       0.586083\n",
       "MAE   0.586992  0.539210       0.569115\n",
       "MSE   0.661530  0.616825       0.700678\n",
       "RMSE  0.813345  0.785382       0.837065"
      ]
     },
     "execution_count": 107,
     "metadata": {},
     "output_type": "execute_result"
    }
   ],
   "source": [
    "data = {'Ridge':[r2_ridge, MAE_ridge, MSE_ridge, RMSE_ridge], \n",
    "        'KNN' : [r2_knn, MAE_knn, MSE_knn, RMSE_knn],\n",
    "       'Decision Tree':[r2_DT, MAE_DT, MSE_DT, RMSE_DT]}\n",
    "\n",
    "df_score =  pd.DataFrame(data = data, index = ['R2', 'MAE', 'MSE', 'RMSE'])\n",
    "df_score\n",
    "\n",
    "# by using the base model it shown that KNN has the r2 score however there are overfitting problem in those 3 algorithm"
   ]
  },
  {
   "cell_type": "markdown",
   "metadata": {},
   "source": [
    "### HyperParameter Tuning"
   ]
  },
  {
   "cell_type": "markdown",
   "metadata": {},
   "source": [
    "### Ridge Regression Tuning"
   ]
  },
  {
   "cell_type": "code",
   "execution_count": 108,
   "metadata": {},
   "outputs": [],
   "source": [
    "ridge_tuning = Ridge()\n",
    "param_ridge = {'alpha':[1,0.5,0.1, 5, 15, 30, 60],\n",
    "               'fit_intercept':[True, False],\n",
    "              'normalize': [False, True],\n",
    "              'copy_X':[True, False],\n",
    "              'max_iter':[None, 10, 100, 1000],\n",
    "              'tol':[0.001, 0.005, 0.01]}"
   ]
  },
  {
   "cell_type": "code",
   "execution_count": 111,
   "metadata": {},
   "outputs": [
    {
     "name": "stdout",
     "output_type": "stream",
     "text": [
      "Fitting 5 folds for each of 672 candidates, totalling 3360 fits\n"
     ]
    },
    {
     "name": "stderr",
     "output_type": "stream",
     "text": [
      "[Parallel(n_jobs=-1)]: Using backend LokyBackend with 8 concurrent workers.\n",
      "[Parallel(n_jobs=-1)]: Done  34 tasks      | elapsed:    3.0s\n",
      "[Parallel(n_jobs=-1)]: Done 1680 tasks      | elapsed:    6.0s\n",
      "[Parallel(n_jobs=-1)]: Done 3360 out of 3360 | elapsed:    9.1s finished\n"
     ]
    },
    {
     "data": {
      "text/plain": [
       "GridSearchCV(cv=5, estimator=Ridge(), n_jobs=-1,\n",
       "             param_grid={'alpha': [1, 0.5, 0.1, 5, 15, 30, 60],\n",
       "                         'copy_X': [True, False],\n",
       "                         'fit_intercept': [True, False],\n",
       "                         'max_iter': [None, 10, 100, 1000],\n",
       "                         'normalize': [False, True],\n",
       "                         'tol': [0.001, 0.005, 0.01]},\n",
       "             verbose=1)"
      ]
     },
     "execution_count": 111,
     "metadata": {},
     "output_type": "execute_result"
    }
   ],
   "source": [
    "model_ridge_tuned = GridSearchCV(estimator = ridge_tuning, param_grid=param_ridge, n_jobs = -1, cv=5, verbose =1)\n",
    "model_ridge_tuned.fit(X_train, y_train)"
   ]
  },
  {
   "cell_type": "code",
   "execution_count": 112,
   "metadata": {},
   "outputs": [
    {
     "data": {
      "text/plain": [
       "0.6700754060898623"
      ]
     },
     "execution_count": 112,
     "metadata": {},
     "output_type": "execute_result"
    }
   ],
   "source": [
    "ridge_tuned_train = model_ridge_tuned.best_score_\n",
    "ridge_tuned_train"
   ]
  },
  {
   "cell_type": "code",
   "execution_count": 114,
   "metadata": {},
   "outputs": [
    {
     "data": {
      "text/plain": [
       "0.6101949517556575"
      ]
     },
     "execution_count": 114,
     "metadata": {},
     "output_type": "execute_result"
    }
   ],
   "source": [
    "ridge_tuned = model_ridge_tuned.best_estimator_\n",
    "y_ridge_tuned =  ridge_tuned.predict(X_test)\n",
    "r2_tuned_ridge = r2_score(y_test, y_ridge_tuned)\n",
    "MAE_ridge_tuned = mean_absolute_error(y_test, y_ridge_tuned)\n",
    "MSE_ridge_tuned = mean_squared_error(y_test, y_ridge_tuned)\n",
    "RMSE_ridge_tuned = np.sqrt(MSE_ridge_tuned)\n",
    "r2_tuned_ridge\n",
    "\n",
    "# we only see a slight increase inscore \n",
    "# and there are still overfitting problem"
   ]
  },
  {
   "cell_type": "markdown",
   "metadata": {},
   "source": [
    "### KNN Hyperparam"
   ]
  },
  {
   "cell_type": "code",
   "execution_count": 115,
   "metadata": {},
   "outputs": [],
   "source": [
    "KNN_tuning = KNeighborsRegressor()\n",
    "param_KNN = {'n_neighbors' :[5, 6,7 ],\n",
    "              'weights':['uniform','distance'],\n",
    "            'algorithm':['auto','ball_tree', 'kd_tree', 'brute'],\n",
    "            'p':[2, 1]}"
   ]
  },
  {
   "cell_type": "code",
   "execution_count": 116,
   "metadata": {},
   "outputs": [
    {
     "name": "stdout",
     "output_type": "stream",
     "text": [
      "Fitting 5 folds for each of 48 candidates, totalling 240 fits\n"
     ]
    },
    {
     "name": "stderr",
     "output_type": "stream",
     "text": [
      "[Parallel(n_jobs=-1)]: Using backend LokyBackend with 8 concurrent workers.\n",
      "[Parallel(n_jobs=-1)]: Done  56 tasks      | elapsed:    0.2s\n",
      "[Parallel(n_jobs=-1)]: Done 240 out of 240 | elapsed:    0.9s finished\n"
     ]
    },
    {
     "data": {
      "text/plain": [
       "GridSearchCV(cv=5, estimator=KNeighborsRegressor(), n_jobs=-1,\n",
       "             param_grid={'algorithm': ['auto', 'ball_tree', 'kd_tree', 'brute'],\n",
       "                         'n_neighbors': [5, 6, 7], 'p': [2, 1],\n",
       "                         'weights': ['uniform', 'distance']},\n",
       "             verbose=1)"
      ]
     },
     "execution_count": 116,
     "metadata": {},
     "output_type": "execute_result"
    }
   ],
   "source": [
    "model_KNN_tuned = GridSearchCV(estimator = KNN_tuning, param_grid=param_KNN, n_jobs = -1, cv=5, verbose =1)\n",
    "model_KNN_tuned.fit(X_train, y_train)"
   ]
  },
  {
   "cell_type": "code",
   "execution_count": 117,
   "metadata": {},
   "outputs": [
    {
     "data": {
      "text/plain": [
       "0.6867105736055431"
      ]
     },
     "execution_count": 117,
     "metadata": {},
     "output_type": "execute_result"
    }
   ],
   "source": [
    "KNN_tuned_train = model_KNN_tuned.best_score_\n",
    "KNN_tuned_train"
   ]
  },
  {
   "cell_type": "code",
   "execution_count": 118,
   "metadata": {},
   "outputs": [],
   "source": [
    "KNN_tuned = model_KNN_tuned.best_estimator_\n",
    "y_KNN_tuned = KNN_tuned.predict(X_test)"
   ]
  },
  {
   "cell_type": "code",
   "execution_count": 119,
   "metadata": {},
   "outputs": [
    {
     "data": {
      "text/plain": [
       "0.6008500149086404"
      ]
     },
     "execution_count": 119,
     "metadata": {},
     "output_type": "execute_result"
    }
   ],
   "source": [
    "r2_KNN_tuned = r2_score(y_test, y_KNN_tuned)\n",
    "MAE_KNN_tuned = mean_absolute_error(y_test, y_KNN_tuned)\n",
    "MSE_KNN_tuned = mean_squared_error(y_test, y_KNN_tuned)\n",
    "RMSE_KNN_tuned = np.sqrt(MSE_KNN_tuned)\n",
    "\n",
    "r2_KNN_tuned\n",
    "\n",
    "## there must be something wrong with the tuning because the score goes down after tuning\n",
    "# and there is still overfitting problem"
   ]
  },
  {
   "cell_type": "code",
   "execution_count": 120,
   "metadata": {},
   "outputs": [],
   "source": [
    "DT_tuning = DecisionTreeRegressor()\n",
    "param_DT = {'max_depth':[None, 5, 9, 21,31 ],\n",
    "            'min_samples_split':[2, 5, 9, 13],\n",
    "            'min_samples_leaf':[1, 2, 5, 10],\n",
    "            'max_features':[None,0.2,0.5,0.8]}"
   ]
  },
  {
   "cell_type": "code",
   "execution_count": 121,
   "metadata": {},
   "outputs": [
    {
     "name": "stdout",
     "output_type": "stream",
     "text": [
      "Fitting 5 folds for each of 320 candidates, totalling 1600 fits\n"
     ]
    },
    {
     "name": "stderr",
     "output_type": "stream",
     "text": [
      "[Parallel(n_jobs=-1)]: Using backend LokyBackend with 8 concurrent workers.\n",
      "[Parallel(n_jobs=-1)]: Done  56 tasks      | elapsed:    0.1s\n",
      "[Parallel(n_jobs=-1)]: Done 1560 tasks      | elapsed:    2.6s\n",
      "[Parallel(n_jobs=-1)]: Done 1600 out of 1600 | elapsed:    2.7s finished\n"
     ]
    },
    {
     "data": {
      "text/plain": [
       "GridSearchCV(cv=5, estimator=DecisionTreeRegressor(), n_jobs=-1,\n",
       "             param_grid={'max_depth': [None, 5, 9, 21, 31],\n",
       "                         'max_features': [None, 0.2, 0.5, 0.8],\n",
       "                         'min_samples_leaf': [1, 2, 5, 10],\n",
       "                         'min_samples_split': [2, 5, 9, 13]},\n",
       "             verbose=1)"
      ]
     },
     "execution_count": 121,
     "metadata": {},
     "output_type": "execute_result"
    }
   ],
   "source": [
    "model_DT_tuned = GridSearchCV(estimator = DT_tuning, param_grid=param_DT, n_jobs = -1, cv=5, verbose =1)\n",
    "model_DT_tuned.fit(X_train, y_train)"
   ]
  },
  {
   "cell_type": "code",
   "execution_count": 122,
   "metadata": {},
   "outputs": [
    {
     "data": {
      "text/plain": [
       "0.7352923628520129"
      ]
     },
     "execution_count": 122,
     "metadata": {},
     "output_type": "execute_result"
    }
   ],
   "source": [
    "DT_tuned_train =  model_DT_tuned.best_score_\n",
    "DT_tuned_train"
   ]
  },
  {
   "cell_type": "code",
   "execution_count": 123,
   "metadata": {},
   "outputs": [],
   "source": [
    "model_DT_tuned = model_DT_tuned.best_estimator_\n",
    "y_DT_tuned = model_DT_tuned.predict(X_test)"
   ]
  },
  {
   "cell_type": "code",
   "execution_count": 125,
   "metadata": {},
   "outputs": [
    {
     "data": {
      "text/plain": [
       "0.6629668173126724"
      ]
     },
     "execution_count": 125,
     "metadata": {},
     "output_type": "execute_result"
    }
   ],
   "source": [
    "r2_tuned_DT =  r2_score(y_test, y_DT_tuned)\n",
    "MAE_tuned_DT = mean_absolute_error(y_test, y_DT_tuned)\n",
    "MSE_tuned_DT = mean_squared_error(y_test,y_DT_tuned)\n",
    "RMSE_tuned_DT = np.sqrt(MSE_tuned_DT)\n",
    "r2_tuned_DT\n",
    "\n",
    "# out of all model DT tuned has the highest r2 score compared to all other model \n",
    "# however there are overfitting provlem in all the models \n",
    "# better feature selection needs to be implemented to avoid overfitting"
   ]
  },
  {
   "cell_type": "code",
   "execution_count": 126,
   "metadata": {},
   "outputs": [
    {
     "data": {
      "text/html": [
       "<div>\n",
       "<style scoped>\n",
       "    .dataframe tbody tr th:only-of-type {\n",
       "        vertical-align: middle;\n",
       "    }\n",
       "\n",
       "    .dataframe tbody tr th {\n",
       "        vertical-align: top;\n",
       "    }\n",
       "\n",
       "    .dataframe thead th {\n",
       "        text-align: right;\n",
       "    }\n",
       "</style>\n",
       "<table border=\"1\" class=\"dataframe\">\n",
       "  <thead>\n",
       "    <tr style=\"text-align: right;\">\n",
       "      <th></th>\n",
       "      <th>Ridge Tuned</th>\n",
       "      <th>KNN Tuned</th>\n",
       "      <th>Decision Tree Tuned</th>\n",
       "    </tr>\n",
       "  </thead>\n",
       "  <tbody>\n",
       "    <tr>\n",
       "      <th>R2</th>\n",
       "      <td>0.610195</td>\n",
       "      <td>0.600850</td>\n",
       "      <td>0.662967</td>\n",
       "    </tr>\n",
       "    <tr>\n",
       "      <th>MAE</th>\n",
       "      <td>0.585265</td>\n",
       "      <td>0.568662</td>\n",
       "      <td>0.521761</td>\n",
       "    </tr>\n",
       "    <tr>\n",
       "      <th>MSE</th>\n",
       "      <td>0.659861</td>\n",
       "      <td>0.675680</td>\n",
       "      <td>0.570529</td>\n",
       "    </tr>\n",
       "    <tr>\n",
       "      <th>RMSE</th>\n",
       "      <td>0.812318</td>\n",
       "      <td>0.821997</td>\n",
       "      <td>0.755333</td>\n",
       "    </tr>\n",
       "  </tbody>\n",
       "</table>\n",
       "</div>"
      ],
      "text/plain": [
       "      Ridge Tuned  KNN Tuned  Decision Tree Tuned\n",
       "R2       0.610195   0.600850             0.662967\n",
       "MAE      0.585265   0.568662             0.521761\n",
       "MSE      0.659861   0.675680             0.570529\n",
       "RMSE     0.812318   0.821997             0.755333"
      ]
     },
     "execution_count": 126,
     "metadata": {},
     "output_type": "execute_result"
    }
   ],
   "source": [
    "data2 = {'Ridge Tuned':[r2_tuned_ridge, MAE_ridge_tuned, MSE_ridge_tuned, RMSE_ridge_tuned],\n",
    "        'KNN Tuned':[r2_KNN_tuned, MAE_KNN_tuned, MSE_KNN_tuned, RMSE_KNN_tuned],\n",
    "        'Decision Tree Tuned':[r2_tuned_DT,MAE_tuned_DT,MSE_tuned_DT,RMSE_tuned_DT]}\n",
    "\n",
    "df_score_tuned =  pd.DataFrame(data = data2, index = ['R2', 'MAE', 'MSE', 'RMSE'])\n",
    "df_score_tuned"
   ]
  },
  {
   "cell_type": "code",
   "execution_count": 127,
   "metadata": {},
   "outputs": [
    {
     "data": {
      "text/plain": [
       "['Model_decision_tree_ujian']"
      ]
     },
     "execution_count": 127,
     "metadata": {},
     "output_type": "execute_result"
    }
   ],
   "source": [
    "import joblib\n",
    "joblib.dump(model_DT_tuned, 'Model_decision_tree_ujian')"
   ]
  },
  {
   "cell_type": "markdown",
   "metadata": {},
   "source": [
    "### Explanation on  Evaluation Matrix\n",
    "\n",
    "\n",
    "- R2 score is total for all the total error of prediction devided by total squared of actual data\n",
    "- MAE score is |prediction - actual| data divided by number of data point\n",
    "- MSE score is like variance of the error\n",
    "- RMSE is the square root of the error or standard deviation of error"
   ]
  },
  {
   "cell_type": "markdown",
   "metadata": {},
   "source": [
    "### Conclusion \n",
    "\n",
    "\n",
    "- out of all model DT tuned has the highest r2 score compared to all other model \n",
    "- however there are overfitting provlem in all the models \n",
    "- better feature selection needs to be implemented to avoid overfitting\n",
    "- Recategorizing the year column might have effect on evaluation matrix\n",
    "- a lot of imputation might have effect on the quality of the data due to bug / human error"
   ]
  },
  {
   "cell_type": "markdown",
   "metadata": {},
   "source": [
    "### Recommendation \n",
    "\n",
    "- Model needs to be improved to have a better prediction (it still have an overfitting problem needs a better feature selection)\n",
    "\n",
    "- Private jet is a good investment as we can see from the EDA that used private jet has a higher median price compared to the new one \n",
    "\n",
    "- While Turbine Helicopter is not a good investment as the price goes down as it clock more airtime \n",
    "\n",
    "- air craft that's from the USA are generally has a lower median value compared to aircraft from any other countries\n",
    "\n"
   ]
  },
  {
   "cell_type": "code",
   "execution_count": null,
   "metadata": {},
   "outputs": [],
   "source": []
  }
 ],
 "metadata": {
  "kernelspec": {
   "display_name": "Python 3",
   "language": "python",
   "name": "python3"
  },
  "language_info": {
   "codemirror_mode": {
    "name": "ipython",
    "version": 3
   },
   "file_extension": ".py",
   "mimetype": "text/x-python",
   "name": "python",
   "nbconvert_exporter": "python",
   "pygments_lexer": "ipython3",
   "version": "3.8.3"
  }
 },
 "nbformat": 4,
 "nbformat_minor": 4
}
